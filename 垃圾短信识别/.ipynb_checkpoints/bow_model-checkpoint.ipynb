{
 "cells": [
  {
   "cell_type": "markdown",
   "metadata": {},
   "source": [
    "* 参考链接：http://mp.weixin.qq.com/s/5P9s8VDvyTpUk1zhQGz4tQ\n",
    "\n"
   ]
  },
  {
   "cell_type": "code",
   "execution_count": 2,
   "metadata": {},
   "outputs": [],
   "source": [
    "#coding: utf-8\n",
    "#author: 重庆\n",
    "\"\"\"基于BOW文本特征的LR模型。\n",
    "\n",
    "此部分代码仅为示例，还有很多工作可以做，建议自己尝试一下，包括不仅限于：\n",
    "\n",
    "1. LogisticRegression有一个参数为C，尝试调整C的值，看看结果有什么变化，并思考为什么。\n",
    "\n",
    "2. 创建字典时，设定的频次阈值为10，尝试设定其它的阈值，观察和思考结果及其影响。是否阈值越小越好，或者越大越好呢？这些都影响什么呢？\n",
    "\n",
    "3. 打印出字典的内容时，你会发现有很多标点符号，这些对预测结果有影响么？如果有，试着分析影响到底多大；如果没有，那如果优化这部分呢？\n",
    "\n",
    "4. 创建字典时，仅仅只使用了部分数据（拆分得到的训练集），为什么呢？可以使用所有的数据吗？\n",
    "\n",
    "5. LogisticRegression有一个参数为penalty，其指定了是使用L1正则还是L2正则，试着改变一下参数，看看结果。并思考L1和L2的区别。\n",
    "\n",
    "6. 文本转化为特征时，我们使用的是BOW，试着使用TF-IDF特征，观察实验结果是否有提升。尝试着分析结果改变的原因是什么。\n",
    "\"\"\"\n",
    "import sys\n",
    "import os\n",
    "import collections\n",
    "import multiprocessing\n",
    "import itertools\n",
    "import functools\n",
    "import operator\n",
    "import array\n",
    "import argparse\n",
    "\n",
    "import numpy as np\n",
    "import jieba\n",
    "import jieba.posseg as posseg\n",
    "import sklearn\n",
    "import sklearn.linear_model as linear_model"
   ]
  },
  {
   "cell_type": "code",
   "execution_count": 3,
   "metadata": {
    "collapsed": true
   },
   "outputs": [],
   "source": [
    "\n",
    "def fetch_train_test(data_path, test_size=0.2):\n",
    "    \"\"\"读取数据，并拆分数据为训练集和测试集\n",
    "    \"\"\"\n",
    "    y = list()\n",
    "    text_list = list()\n",
    "    for line in open(data_path, \"r\").xreadlines():\n",
    "        label, text = line[:-1].split('\\t', 1)\n",
    "        text_list.append(list(jieba.cut(text)))\n",
    "        y.append(int(label))\n",
    "    return sklearn.model_selection.train_test_split(\n",
    "                text_list, y, test_size=test_size, random_state=1028)\n"
   ]
  },
  {
   "cell_type": "code",
   "execution_count": 4,
   "metadata": {
    "collapsed": true
   },
   "outputs": [],
   "source": [
    "def build_dict(text_list, min_freq=5):\n",
    "    \"\"\"根据传入的文本列表，创建一个最小频次为min_freq的字典，并返回字典word -> wordid\n",
    "    \"\"\"\n",
    "    freq_dict = collections.Counter(itertools.chain(*text_list))\n",
    "    freq_list = sorted(freq_dict.items(), key=operator.itemgetter(1), reverse=True)\n",
    "    words, _ = zip(*filter(lambda wc: wc[1] >= min_freq, freq_list))\n",
    "    return dict(zip(words, range(len(words))))\n",
    "\n"
   ]
  },
  {
   "cell_type": "code",
   "execution_count": 5,
   "metadata": {
    "collapsed": true
   },
   "outputs": [],
   "source": [
    "def text2vect(text_list, word2id):\n",
    "    \"\"\"将传入的文本转化为向量，返回向量大小为[n_samples, dict_size]\n",
    "    \"\"\"\n",
    "    X = list()\n",
    "    for text in text_list:\n",
    "        vect = array.array('l', [0] * len(word2id))\n",
    "        for word in text:\n",
    "            if word not in word2id:\n",
    "                continue\n",
    "            vect[word2id[word]] = 1\n",
    "        X.append(vect)\n",
    "    return X"
   ]
  },
  {
   "cell_type": "code",
   "execution_count": 6,
   "metadata": {
    "collapsed": true
   },
   "outputs": [],
   "source": [
    "\n",
    "def evaluate(model, X, y):\n",
    "    \"\"\"评估数据集，并返回评估结果，包括：正确率、AUC值\n",
    "    \"\"\"\n",
    "    accuracy = model.score(X, y)\n",
    "    fpr, tpr, thresholds = sklearn.metrics.roc_curve(y, model.predict_proba(X)[:, 1], pos_label=1)\n",
    "    return accuracy, sklearn.metrics.auc(fpr, tpr)\n"
   ]
  },
  {
   "cell_type": "code",
   "execution_count": 12,
   "metadata": {
    "collapsed": true
   },
   "outputs": [],
   "source": [
    "\n",
    "def parse_args():\n",
    "    parser = argparse.ArgumentParser()\n",
    "    parser.add_argument(\n",
    "        \"--data_path\",\n",
    "        type=str,\n",
    "        default=\"/data_in/train.txt\",\n",
    "        help=\"Data file path\",\n",
    "    )\n",
    "    return parser.parse_args()"
   ]
  },
  {
   "cell_type": "code",
   "execution_count": 11,
   "metadata": {},
   "outputs": [
    {
     "name": "stderr",
     "output_type": "stream",
     "text": [
      "usage: ipykernel_launcher.py [-h] [--data_path DATA_PATH]\n",
      "ipykernel_launcher.py: error: unrecognized arguments: -f C:\\Users\\hasee\\AppData\\Roaming\\jupyter\\runtime\\kernel-d0b8635d-c4ef-4faa-aa0c-a959f0cc777c.json\n"
     ]
    },
    {
     "ename": "SystemExit",
     "evalue": "2",
     "output_type": "error",
     "traceback": [
      "An exception has occurred, use %tb to see the full traceback.\n",
      "\u001b[1;31mSystemExit\u001b[0m\u001b[1;31m:\u001b[0m 2\n"
     ]
    },
    {
     "name": "stderr",
     "output_type": "stream",
     "text": [
      "c:\\users\\hasee\\appdata\\local\\programs\\python\\python35\\lib\\site-packages\\IPython\\core\\interactiveshell.py:2870: UserWarning: To exit: use 'exit', 'quit', or Ctrl-D.\n",
      "  warn(\"To exit: use 'exit', 'quit', or Ctrl-D.\", stacklevel=1)\n"
     ]
    }
   ],
   "source": [
    "if __name__ == \"__main__\":\n",
    "    # for Unix-like system only\n",
    "    # jieba.enable_parallel(multiprocessing.cpu_count())\n",
    "    args = parse_args()\n",
    "\n",
    "    # step 1. 将原始数据拆分成训练集和测试集\n",
    "    X_train, X_test, y_train, y_test = fetch_train_test(args.data_path)\n",
    "\n",
    "    # step 2. 创建字典\n",
    "    word2id = build_dict(X_train, min_freq=10)\n",
    "\n",
    "    # step 3. 抽取特征\n",
    "    X_train = text2vect(X_train, word2id)\n",
    "    X_test = text2vect(X_test, word2id)\n",
    "\n",
    "    # step 4. 训练模型\n",
    "    lr = linear_model.LogisticRegression(C=1)\n",
    "    lr.fit(X_train, y_train)\n",
    "\n",
    "    # step 5. 模型评估\n",
    "    accuracy, auc = evaluate(lr, X_train, y_train)\n",
    "    sys.stdout.write(\"训练集正确率：%.4f%%\\n\" % (accuracy * 100))\n",
    "    sys.stdout.write(\"训练集AUC值：%.6f\\n\" % (auc))\n",
    "\n",
    "    accuracy, auc = evaluate(lr, X_test, y_test)\n",
    "    sys.stdout.write(\"测试集正确率：%.4f%%\\n\" % (accuracy * 100))\n",
    "    sys.stdout.write(\"测试AUC值：%.6f\\n\" % (auc))\n"
   ]
  },
  {
   "cell_type": "code",
   "execution_count": null,
   "metadata": {
    "collapsed": true
   },
   "outputs": [],
   "source": []
  }
 ],
 "metadata": {
  "kernelspec": {
   "display_name": "Python 3",
   "language": "python",
   "name": "python3"
  },
  "language_info": {
   "codemirror_mode": {
    "name": "ipython",
    "version": 3
   },
   "file_extension": ".py",
   "mimetype": "text/x-python",
   "name": "python",
   "nbconvert_exporter": "python",
   "pygments_lexer": "ipython3",
   "version": "3.5.4"
  }
 },
 "nbformat": 4,
 "nbformat_minor": 2
}
